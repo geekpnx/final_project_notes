{
 "cells": [
  {
   "cell_type": "markdown",
   "metadata": {},
   "source": [
    "# **Topic: Schedule a Cron Jon to run Python script**"
   ]
  },
  {
   "cell_type": "markdown",
   "metadata": {},
   "source": [
    "### **1. Create a Python Script**\n",
    "\n",
    "Assuming you have a Python script called scraper.py that scrapes the online store, make sure the function you want to run (e.g., `scrape_data()`) is inside it."
   ]
  },
  {
   "cell_type": "code",
   "execution_count": null,
   "metadata": {},
   "outputs": [],
   "source": [
    "# scraper.py\n",
    "\n",
    "def scrape_data():\n",
    "    # Your scraping logic here\n",
    "    print(\"Scraping data from online store...\")\n",
    "    # e.g., requests to the website and parsing\n",
    "\n",
    "if __name__ == \"__main__\":\n",
    "    scrape_data()"
   ]
  },
  {
   "cell_type": "markdown",
   "metadata": {},
   "source": [
    "### **2. Setup Cron Job**"
   ]
  },
  {
   "cell_type": "markdown",
   "metadata": {},
   "source": [
    "To set up the cron job, follow these steps:\n",
    "\n",
    "- Open your crontab:\n",
    "    - Run the following command in your terminal:"
   ]
  },
  {
   "cell_type": "code",
   "execution_count": null,
   "metadata": {
    "vscode": {
     "languageId": "shellscript"
    }
   },
   "outputs": [],
   "source": [
    "crontab -e"
   ]
  },
  {
   "cell_type": "markdown",
   "metadata": {},
   "source": [
    "- Add a new cron job:\n",
    "    - Add the following line to schedule the scraper.py script to run once every day at 12:01 AM:"
   ]
  },
  {
   "cell_type": "code",
   "execution_count": null,
   "metadata": {
    "vscode": {
     "languageId": "shellscript"
    }
   },
   "outputs": [],
   "source": [
    "1 0 * * * /usr/bin/python3 /path/to/your/script/scraper.py"
   ]
  },
  {
   "cell_type": "markdown",
   "metadata": {},
   "source": [
    "### **`Explanation:`**\n",
    "\n",
    "- `1 0 * * *` specifies the time:\n",
    "- `1`: The minute of the hour (1 minute after midnight).\n",
    "- `0`: The hour (midnight, 12 AM).\n",
    "- `* * *` : Every day, every month, and every weekday.\n",
    "- `/usr/bin/python3` is the path to your Python interpreter. You can use which python3 to find its exact path.\n",
    "- `/path/to/your/script/scraper.py` is the full path to your scraper.py file.\n",
    "\n",
    "Now, your Python script will automatically run every day at 12:01 AM."
   ]
  }
 ],
 "metadata": {
  "language_info": {
   "name": "python"
  }
 },
 "nbformat": 4,
 "nbformat_minor": 2
}
