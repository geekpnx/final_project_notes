{
 "cells": [
  {
   "cell_type": "markdown",
   "metadata": {},
   "source": [
    "# **The Differences between django User, AbstractUser, OneToONe User and dj_rest_auth**"
   ]
  },
  {
   "cell_type": "markdown",
   "metadata": {},
   "source": [
    "\n",
    "In Django, dealing with user authentication and customization involves different concepts and tools. Here are the differences between `User`, `AbstractUser`, `OneToOneField(User)`, and `dj-rest-auth`:"
   ]
  },
  {
   "cell_type": "markdown",
   "metadata": {},
   "source": [
    "### **1. Django User**\n",
    "\n",
    "- `Definition:` The default user model that comes with Django.\n",
    "- `Purpose:` It provides a standard user implementation with fields like `username`, `email`, `first_name`, `last_name`, and `password management`.\n",
    "- `Usage:` Suitable for basic applications where no custom user fields or authentication logic is needed.\n",
    "- `Limitation:` Cannot be easily modified after the initial setup (e.g., adding extra fields like `profile_picture`)."
   ]
  },
  {
   "cell_type": "code",
   "execution_count": null,
   "metadata": {},
   "outputs": [],
   "source": [
    "from django.contrib.auth.models import User"
   ]
  },
  {
   "cell_type": "markdown",
   "metadata": {},
   "source": [
    "### **2. Django AbstractUser**\n",
    "\n",
    "- `Definition:` An abstract class that extends the default User model.\n",
    "- `Purpose:` It allows customization by providing a base user model that you can extend with additional fields.\n",
    "- `Usage:` You use AbstractUser when you need to modify or extend the built-in user model but still want the default behavior (like authentication and password management).\n",
    "- `Advantage:` You can add custom fields like phone_number, address, etc., to the user model without starting from scratch.\n",
    "- `Limitation:` If you need to drastically change the user model, you might want to use AbstractBaseUser instead."
   ]
  },
  {
   "cell_type": "code",
   "execution_count": null,
   "metadata": {},
   "outputs": [],
   "source": [
    "from django.contrib.auth.models import AbstractUser\n",
    "\n",
    "class CustomUser(AbstractUser):\n",
    "    phone_number = models.CharField(max_length=15)"
   ]
  },
  {
   "cell_type": "markdown",
   "metadata": {},
   "source": [
    "### **3. OneToOneField(User)**\n",
    "\n",
    "- `Definition:` A one-to-one relationship with the User model.\n",
    "- `Purpose:` It is used when you want to store additional user-related information in a separate model (commonly for profiles).\n",
    "- `Usage:` Create a separate Profile model and link it to the User model via a OneToOneField. This is useful when the user data grows over time or requires modular organization.\n",
    "- `Example:` You keep authentication and core user data in the User model and create a Profile model for extra fields such as bio, profile_picture, etc."
   ]
  },
  {
   "cell_type": "code",
   "execution_count": null,
   "metadata": {},
   "outputs": [],
   "source": [
    "from django.contrib.auth.models import User\n",
    "from django.db import models\n",
    "\n",
    "class Profile(models.Model):\n",
    "    user = models.OneToOneField(User, on_delete=models.CASCADE)\n",
    "    bio = models.TextField()\n",
    "    profile_picture = models.ImageField(upload_to='profiles/')"
   ]
  },
  {
   "cell_type": "markdown",
   "metadata": {},
   "source": [
    "### **4. dj-rest-auth**\n",
    "\n",
    "- `Definition:` A Django package for handling authentication in Django REST Framework (DRF) projects.\n",
    "- `Purpose:` Provides a set of endpoints for handling user authentication such as login, logout, registration, password reset, token refresh, and social login via APIs.\n",
    "- `Usage:` It’s used in API-based applications where you want to provide user authentication and management without building the entire infrastructure from scratch.\n",
    "- `Features:`\n",
    "    - Token-based or session-based authentication.\n",
    "\t- Built-in integration with third-party packages like django-allauth for registration and social authentication.\n",
    "\t- API endpoints like login/, logout/, password/reset/, etc."
   ]
  },
  {
   "cell_type": "code",
   "execution_count": null,
   "metadata": {
    "vscode": {
     "languageId": "shellscript"
    }
   },
   "outputs": [],
   "source": [
    "pip install dj-rest-auth"
   ]
  },
  {
   "cell_type": "code",
   "execution_count": null,
   "metadata": {
    "vscode": {
     "languageId": "shellscript"
    }
   },
   "outputs": [],
   "source": [
    "# urls.py\n",
    "from dj_rest_auth.views import LoginView, LogoutView\n",
    "\n",
    "urlpatterns = [\n",
    "    path('api/auth/login/', LoginView.as_view(), name='rest_login'),\n",
    "    path('api/auth/logout/', LogoutView.as_view(), name='rest_logout'),\n",
    "]"
   ]
  },
  {
   "cell_type": "markdown",
   "metadata": {},
   "source": [
    "### **Summary:**\n",
    "\n",
    "- **`User:`** The default Django user model with basic fields.\n",
    "- **`AbstractUser:`** Extends User and allows adding extra fields while maintaining default user behavior.\n",
    "- **`OneToOneField(User):`** Links additional user-related data in a separate model (e.g., profiles).\n",
    "- **`dj-rest-auth:`** Provides ready-to-use REST API endpoints for user authentication in Django REST Framework applications.\n",
    "\n",
    "Each of these serves different purposes depending on the specific needs of your Django application."
   ]
  }
 ],
 "metadata": {
  "language_info": {
   "name": "python"
  }
 },
 "nbformat": 4,
 "nbformat_minor": 2
}
