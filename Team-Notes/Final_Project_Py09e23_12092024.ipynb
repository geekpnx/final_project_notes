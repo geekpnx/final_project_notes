{
 "cells": [
  {
   "cell_type": "markdown",
   "metadata": {},
   "source": [
    "\n",
    "# **Project \"Prosffer\"**\n",
    "\n",
    "\n"
   ]
  },
  {
   "cell_type": "markdown",
   "metadata": {},
   "source": [
    "## **Business Idea**\n",
    "\n",
    "A website that provides a general Overview for goods of different market brands in order to compare prices and get a wider overview of accessable goods.\n",
    "\n",
    "## **Problem Statement**\n",
    "\n",
    "- In today’s fast-paced, highly competitive marketplace, consumers are overwhelmed by the variety of goods, brands, and prices available across different stores and online platforms. With limited time and resources, customers often struggle to efficiently compare prices and quality, leading to suboptimal purchasing decisions. There is a lack of a centralized platform that provides a comprehensive, real-time comparison of goods from multiple brands and markets, making it difficult for users to identify the best value for their money.\n",
    "\n",
    "- Examples:\n",
    "\n",
    "    - In Germany we have different Supermarkets, such as Kaufland, Lidl, REWE, EDEKA, Aldi, etc, All of them have different type of products, brands, and special prices and promotions.\n",
    "\n",
    "    - When people go shopping, there are so many different stores and brands selling the same kinds of things. It’s hard for them to know which store has the best price or which product is the best. Right now, people have to check lots of different websites or stores one by one to compare prices. This takes a lot of time and can be confusing. (Polina will continue)\n",
    "\n",
    "    - Imagine your family wants to buy a big bag of rice, and different stores sell the same type of rice. One store sells it for $30, another for $25, and another for $20, but you don’t know which store has the lowest price without checking all the websites or visiting the stores. So, you have to spend a lot of time going through different websites, writing down the prices, and figuring out where to buy it for the best deal.\n",
    "\n",
    "    - Wouldn’t it be much easier if there was one website that showed you all the prices from every store in one place? That way, you could quickly see which store has the cheapest rice, saving you time and money!\n",
    "\n",
    "\n",
    "\n",
    "\n",
    "## **Solution Statement -> Business Mission Statement** \n",
    "\n",
    "- Our website will serve as a centralized platform that allows consumers to easily compare prices and features of goods from various brands across multiple markets. By aggregating real-time data on product availability, pricing, and user reviews, we will empower users to make informed purchasing decisions. Our intuitive interface will enable users to filter and sort products based on their preferences, ensuring they find the best value for their needs. With personalized recommendations and alertsfor price drops, our platform will enhance the shopping experience, ultimately saving users time and money.\n",
    "\n"
   ]
  },
  {
   "cell_type": "markdown",
   "metadata": {},
   "source": [
    "---"
   ]
  },
  {
   "cell_type": "markdown",
   "metadata": {},
   "source": [
    "\n",
    "> ### **What we need to be discussed**\n",
    "\n",
    "- extract data from Supermarket websites\n",
    "- focus on extraction from CSV-files (How to extract from PDF) ?\n",
    "- database? (storing the fetched data, user, data analisys)\n",
    "    - user\n",
    "    - data analisys/processing\n",
    "    - wishlist\n",
    "    - frequently buy\n",
    "\n"
   ]
  },
  {
   "cell_type": "markdown",
   "metadata": {},
   "source": [
    "> ### **Tools we need to use**\n",
    "- **Python Packages | Libraries**\n",
    "\n",
    "    - webscrap (BeautifulSoup, Scrapy)\n",
    "    - Django\n",
    "    - dj_rest_auth\n",
    "    - requests\n",
    "    - PostgreSQL\n",
    "    - Panda\n",
    "    - nampy\n",
    "- **In details**\n",
    "\n",
    "    1. **Web Development Framework:**\n",
    "        - **Django:** A full-featured framework that comes with an ORM, admin interface, and built-in security features.\n",
    "\n",
    "    2. **Web Scraping Tools**\n",
    "        - **BeautifulSoup or Scrapy:** For gathering data (prices, descriptions, etc.) from various websites.\n",
    "             -  **BeautifulSoup:** Easy-to-use library for smaller scraping tasks.\n",
    "             -  **Scrapy:** A more powerful and scalable framework for scraping large datasets.\n",
    "        - **Selenium:** For scraping websites that require user interaction (JavaScript-heavy websites).\n",
    "    \n",
    "    3. **Database Management**\n",
    "        - **PostgreSQL:** For storing product data, price comparisons, and user information.\n",
    "    \n",
    "    4. **Frontend Technologies**\n",
    "        - **HTML/CSS/JavaScript:** To create an interactive and user-friendly interface.\n",
    "        - **React.js, Vue.js, or Angular.js**: Modern frontend libraries to build a dynamic, responsive user interface.\n",
    "        - **Bootstrap** or **Tailwind CSS:** CSS frameworks to ensure your site looks good on all devices.\n",
    "    \n",
    "    5. **Data Processing and Analysis**\n",
    "        - **Pandas:** For managing and manipulating the product and pricing data in Python.\n",
    "        - **NumPy:** For more advanced numerical operations if needed.\n",
    "        - **Matplotlib** or **Plotly:** For any visual comparison or charting features (if you want to show trends in pricing, for example).\n",
    "    \n",
    "    6. **Search and Filtering Tools**\n",
    "        - **Elasticsearch**: For fast and powerful search capabilities across products and brands.\n",
    "        - **Algolia:** A search-as-a-service solution that provides fast and easy product search functionality.\n",
    "    \n",
    "    7. **User Authentication and Security**\n",
    "        - **Django's authentication system or Auth0:** For secure user sign-ups, logins, and authentication.\n",
    "    \n",
    "    8. **Caching and Performance Optimization**\n",
    "        - **Redis** or **Memcached**: For caching frequently accessed data (like product prices) to improve site performance.\n",
    "    \n",
    "    9. **Automating Data Collection**\n",
    "        - **Cron Jobs (on Linux-based systems)** to run scripts periodically."
   ]
  },
  {
   "cell_type": "markdown",
   "metadata": {},
   "source": [
    "> ### **Links to scrap**\n",
    "\n",
    "\n",
    "- **Netto:**  https://www.netto-online.de/\n",
    "- **Kaufland:** https://www.kaufland.de/\n",
    "- **Aldie-Süd:**  https://www.aldi-sued.de/de/homepage.html\n",
    "- **Alidie-Nord:** https://www.aldi-nord.de/\n",
    "- **Edeka:** https://www.edeka24.de/\n",
    "- **REWE:** https://shop.rewe.de/ (Terence Scrap this)\n",
    "- **Lidl:** https://www.lidl.de/ (Terence Scrap this)"
   ]
  },
  {
   "cell_type": "markdown",
   "metadata": {},
   "source": [
    "## **SCRAP CODE SOLUTION**"
   ]
  },
  {
   "cell_type": "markdown",
   "metadata": {},
   "source": [
    "```py\n",
    "from selenium import webdriver\n",
    "from selenium.webdriver.chrome.service import Service\n",
    "from selenium.webdriver.common.by import By\n",
    "from bs4 import BeautifulSoup\n",
    "import time\n",
    "\n",
    "# Set up the Chrome WebDriver (adjust the path to your ChromeDriver)\n",
    "service = Service('/home/dci-student/Desktop/DCI/Test/chromedriver')\n",
    "driver = webdriver.Chrome(service=service)\n",
    "\n",
    "# URL of the supermarket page you want to scrape\n",
    "url = 'https://www.netto-online.de/konserven/c-N0122'\n",
    "driver.get(url)\n",
    "\n",
    "# Wait for the page to fully load (adjust sleep as needed or use explicit waits)\n",
    "time.sleep(5)\n",
    "\n",
    "# Pass the page content to BeautifulSoup\n",
    "soup = BeautifulSoup(driver.page_source, 'html.parser')\n",
    "\n",
    "# Now, scrape the product details as you would with BeautifulSoup\n",
    "products = soup.find_all('a', class_='product__content')\n",
    "\n",
    "for product in products:\n",
    "    # Extract the product title\n",
    "    title = product.find('div', class_='product__title')\n",
    "    \n",
    "    # Extract the price container\n",
    "    price_container = product.find('div', class_='product__price__label')\n",
    "\n",
    "    if title and price_container:\n",
    "        # Extract integer part of the price\n",
    "        integer_part = price_container.find('ins', class_='product__current-price').contents[0].strip()\n",
    "\n",
    "        # Extract fractional part of the price (digits after the comma)\n",
    "        fractional_part = price_container.find('span', class_='product__current-price--digits-after-comma').text.strip()\n",
    "\n",
    "        # Combine integer and fractional parts to form full price\n",
    "        price = integer_part + fractional_part\n",
    "\n",
    "        # Print the product title and price\n",
    "        print(f'Product: {title.text.strip()}, Price: {price}')\n",
    "\n",
    "# Close the browser\n",
    "driver.quit()\n",
    "```"
   ]
  },
  {
   "cell_type": "markdown",
   "metadata": {},
   "source": [
    "# **STEPS to get the CODE WORKING, is to download Chrome Driver**"
   ]
  },
  {
   "cell_type": "markdown",
   "metadata": {},
   "source": [
    "To find the correct version of ChromeDriver for your installed version of Chrome, follow these steps:\n",
    "\n",
    "Check Your Chrome Version:\n",
    "\n",
    "Open Chrome.\n",
    "Click on the three vertical dots (menu) in the top right corner.\n",
    "Go to Help > About Google Chrome.\n",
    "Note the version number (e.g., 115.0.5790.98).\n",
    "Download ChromeDriver:\n",
    "\n",
    "Visit the ChromeDriver download page.\n",
    "Look for the version that matches your Chrome version. The ChromeDriver version should be the same as the major version number of your Chrome (e.g., if your Chrome is 115.x, download ChromeDriver 115.x).\n",
    "Click on the version link, and download the appropriate file for your operating system (Windows, macOS, Linux).\n",
    "Extract and Set Up ChromeDriver:\n",
    "\n",
    "Extract the downloaded file.\n",
    "Move the chromedriver executable to a directory in your system's PATH, or note its location for use in your automation scripts."
   ]
  }
 ],
 "metadata": {
  "language_info": {
   "name": "python"
  }
 },
 "nbformat": 4,
 "nbformat_minor": 2
}
